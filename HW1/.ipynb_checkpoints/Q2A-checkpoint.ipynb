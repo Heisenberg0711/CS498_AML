{
 "cells": [
  {
   "cell_type": "code",
   "execution_count": 20,
   "metadata": {},
   "outputs": [],
   "source": [
    "import pandas as pd\n",
    "import numpy as np\n",
    "import matplotlib.pyplot as plt\n",
    "from skimage.transform import resize\n",
    "from sklearn.naive_bayes import GaussianNB\n",
    "\n",
    "origin_image = pd.read_csv(\"train.csv\", sep = ',', header = 0, usecols = range(1,785)) #Index from 0 to 784\n",
    "origin_label = pd.read_csv(\"train.csv\", sep = ',', header = 0)[['label']].values\n",
    "\n",
    "\n",
    "msk = np.random.rand(len(origin_image)) < 0.8\n",
    "train = origin_image[msk]\n",
    "test = origin_image[~msk]\n"
   ]
  },
  {
   "cell_type": "code",
   "execution_count": null,
   "metadata": {},
   "outputs": [],
   "source": [
    "#Crop all the images\n",
    "from skimage.transform import resize\n",
    "cropped_images = np.ones((origin_image.shape[0], 400))\n",
    "\n",
    "for itr in range(10000):\n",
    "    curr_img = origin_image.loc[[itr]].values\n",
    "    img_matrix = curr_img.reshape([28,28])\n",
    "\n",
    "    row_bounds = np.where(img_matrix > 0)[0]\n",
    "    col_bounds = np.where(img_matrix > 0)[1]\n",
    "    max_row_diff = max(row_bounds) - min(row_bounds)\n",
    "    max_col_diff = max(col_bounds) - min(col_bounds)\n",
    "\n",
    "    start_with_row = False\n",
    "    if max_row_diff > max_col_diff:\n",
    "        max_bound = max_row_diff\n",
    "        start_with_row = True\n",
    "    else:\n",
    "        max_bound = max_col_diff\n",
    "\n",
    "\n",
    "    if start_with_row:\n",
    "        crop_img = img_matrix[row_bounds[0]:row_bounds[0] + max_row_diff, 0:27]\n",
    "        scaled = resize(crop_img, (20, 20), preserve_range = True)\n",
    "        plt.imshow(scaled, cmap = 'gray')\n",
    "        cropped_images[itr] = scaled.flatten()\n",
    "\n",
    "    else:\n",
    "        crop_img = img_matrix[0 : 27, col_bounds[0]:col_bounds[0] + max_col_diff]\n",
    "        scaled = resize(crop_img, (20, 20), preserve_range = True)\n",
    "        plt.imshow(scaled, cmap = 'gray')\n",
    "        cropped_images[itr] = scaled.flatten()\n",
    "  \n",
    "    \n",
    "    "
   ]
  },
  {
   "cell_type": "code",
   "execution_count": null,
   "metadata": {},
   "outputs": [],
   "source": [
    "a = cropped_images[770].reshape(20,20)\n",
    "plt.imshow(a,cmap = 'gray')\n"
   ]
  },
  {
   "cell_type": "code",
   "execution_count": 23,
   "metadata": {},
   "outputs": [
    {
     "name": "stdout",
     "output_type": "stream",
     "text": [
      "(48000, 1)\n"
     ]
    }
   ],
   "source": [
    "# print(test)\n",
    "# print(test.shape)\n",
    "print(origin_label.shape)\n"
   ]
  },
  {
   "cell_type": "code",
   "execution_count": null,
   "metadata": {},
   "outputs": [],
   "source": []
  }
 ],
 "metadata": {
  "kernelspec": {
   "display_name": "Python 3",
   "language": "python",
   "name": "python3"
  },
  "language_info": {
   "codemirror_mode": {
    "name": "ipython",
    "version": 3
   },
   "file_extension": ".py",
   "mimetype": "text/x-python",
   "name": "python",
   "nbconvert_exporter": "python",
   "pygments_lexer": "ipython3",
   "version": "3.6.5"
  }
 },
 "nbformat": 4,
 "nbformat_minor": 2
}
