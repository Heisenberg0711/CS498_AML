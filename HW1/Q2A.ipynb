{
 "cells": [
  {
   "cell_type": "code",
   "execution_count": null,
   "metadata": {},
   "outputs": [],
   "source": [
    "import pandas as pd\n",
    "import numpy as np\n",
    "import matplotlib.pyplot as plt\n",
    "from skimage.transform import resize\n",
    "from sklearn.naive_bayes import GaussianNB\n",
    "\n",
    "train_feature = pd.read_csv(\"train.csv\", sep = ',', header = 0, usecols = range(1,785)).values #Index from 0 to 784\n",
    "train_l = pd.read_csv(\"train.csv\", sep = ',', header = 0)[['label']].values\n",
    "train_label = train_l.ravel()\n",
    "\n",
    "validation_feature = pd.read_csv(\"val.csv\", sep = ',', header = 0, usecols = range(1,785)).values\n",
    "validation_l = pd.read_csv(\"val.csv\", sep = ',', header = 0)[['label']].values\n",
    "validation_label = validation_l.ravel()\n",
    "\n",
    "test_feature = pd.read_csv(\"test.csv\", sep = ',',header = None).values\n",
    "\n",
    "# print(train_label.shape)\n",
    "# print(train_feature.shape)\n",
    "# print(test_feature.shape)\n",
    "# print(validation_feature.shape)\n",
    "# print(validation_label.shape)\n",
    "\n",
    "\n",
    "# print(validation_feature)\n",
    "# print(validation_label)\n",
    "\n",
    "# print(validation_feature[:,0])"
   ]
  },
  {
   "cell_type": "code",
   "execution_count": 83,
   "metadata": {},
   "outputs": [
    {
     "name": "stdout",
     "output_type": "stream",
     "text": [
      "(48000,)\n",
      "[7 2 7 0 0 0 7 7 1 7]\n",
      "[  7   0   0   0   0   0   0   0   0   0   0   0   0   0   0   0   0   0\n",
      "   0   0   0   0   0   0   0   0   0   0   0   0   0   0   0   0   0   0\n",
      "   0   0   0   0   0   0   0   0   0   0   0   0   0   0   0   0   0   0\n",
      "   0   0   0   0   0   0   0   0   0   0   0   0   0   0   0   0   0   0\n",
      "   0   0   0   0   0   0   0   0   0   0   0   0   0   0   0   0   0   0\n",
      "   0   0   0   0   0   0   0   0   0   0   0   0   0   0   0   0   0   0\n",
      "   0   0   0   0   0   0   0   0   0   0   0   0   0   0   0   0   0   0\n",
      "   0   0   0   0   0   0   0   0   0   0   0   0   0   0   0   0   0   0\n",
      "   0   0   0   0   0   0   0   0   0   0   0   0   0   0   0   0   0   0\n",
      "   0   0   0   0   0   0   0   0   0   0   0   0   0   0   0   0   0   0\n",
      "   0   0   0   0   0   0   0   0   0   0   0   0   0   0   0   0   0   0\n",
      "   0   0   0   0   0  84 185 159 151  60  36   0   0   0   0   0   0   0\n",
      "   0   0   0   0   0   0   0   0   0   0   0   0   0   0   0 222 254 254\n",
      " 254 254 241 198 198 198 198 198 198 198 198 170  52   0   0   0   0   0\n",
      "   0   0   0   0   0   0   0  67 114  72 114 163 227 254 225 254 254 254\n",
      " 250 229 254 254 140   0   0   0   0   0   0   0   0   0   0   0   0   0\n",
      "   0   0   0   0  17  66  14  67  67  67  59  21 236 254 106   0   0   0\n",
      "   0   0   0   0   0   0   0   0   0   0   0   0   0   0   0   0   0   0\n",
      "   0   0   0  83 253 209  18   0   0   0   0   0   0   0   0   0   0   0\n",
      "   0   0   0   0   0   0   0   0   0   0   0   0  22 233 255  83   0   0\n",
      "   0   0   0   0   0   0   0   0   0   0   0   0   0   0   0   0   0   0\n",
      "   0   0   0   0 129 254 238  44   0   0   0   0   0   0   0   0   0   0\n",
      "   0   0   0   0   0   0   0   0   0   0   0   0   0  59 249 254  62   0\n",
      "   0   0   0   0   0   0   0   0   0   0   0   0   0   0   0   0   0   0\n",
      "   0   0   0   0   0 133 254 187   5   0   0   0   0   0   0   0   0   0\n",
      "   0   0   0   0   0   0   0   0   0   0   0   0   0   0   9 205 248  58\n",
      "   0   0   0   0   0   0   0   0   0   0   0   0   0   0   0   0   0   0\n",
      "   0   0   0   0   0   0 126 254 182   0   0   0   0   0   0   0   0   0\n",
      "   0   0   0   0   0   0   0   0   0   0   0   0   0   0   0  75 251 240\n",
      "  57   0   0   0   0   0   0   0   0   0   0   0   0   0   0   0   0   0\n",
      "   0   0   0   0   0   0  19 221 254 166   0   0   0   0   0   0   0   0\n",
      "   0   0   0   0   0   0   0   0   0   0   0   0   0   0   0   3 203 254\n",
      " 219  35   0   0   0   0   0   0   0   0   0   0   0   0   0   0   0   0\n",
      "   0   0   0   0   0   0   0  38 254 254  77   0   0   0   0   0   0   0\n",
      "   0   0   0   0   0   0   0   0   0   0   0   0   0   0   0   0  31 224\n",
      " 254 115   1   0   0   0   0   0   0   0   0   0   0   0   0   0   0   0\n",
      "   0   0   0   0   0   0   0   0 133 254 254  52   0   0   0   0   0   0\n",
      "   0   0   0   0   0   0   0   0   0   0   0   0   0   0   0   0   0  61\n",
      " 242 254 254  52   0   0   0   0   0   0   0   0   0   0   0   0   0   0\n",
      "   0   0   0   0   0   0   0   0   0 121 254 254 219  40   0   0   0   0\n",
      "   0   0   0   0   0   0   0   0   0   0   0   0   0   0   0   0   0   0\n",
      "   0 121 254 207  18   0   0   0   0   0   0   0   0   0   0   0   0   0\n",
      "   0   0   0   0   0   0   0   0   0   0   0   0   0   0   0   0   0   0\n",
      "   0   0   0   0   0   0   0   0   0   0]\n"
     ]
    }
   ],
   "source": [
    "print(train_feature[:,0].shape)\n",
    "print(train_label[0:10])\n",
    "print(train_feature[0])"
   ]
  },
  {
   "cell_type": "code",
   "execution_count": 77,
   "metadata": {},
   "outputs": [
    {
     "name": "stdout",
     "output_type": "stream",
     "text": [
      "finished\n"
     ]
    }
   ],
   "source": [
    "#Training the uncropped images\n",
    "gaussian = GaussianNB()\n",
    "gaussian.fit(train_feature, train_label)\n",
    "GaussianNB(priors=None)\n",
    "gaussian_uncrop = gaussian.predict(validation_feature)\n",
    "\n",
    "temp = gaussian_uncrop.reshape(2000,1)\n",
    "img_id = np.arange(1,2001).reshape(2000,1)\n",
    "gaussianNC = np.concatenate((img_id, temp), axis = 1)\n",
    "\n",
    "np.savetxt(\"gaussianNC.csv\", gaussianNC, delimiter = ',', header = \"ImageId,Lable\", comments = '')\n",
    "\n",
    "print(\"finished\")"
   ]
  },
  {
   "cell_type": "code",
   "execution_count": null,
   "metadata": {},
   "outputs": [],
   "source": [
    "print(gaussian_uncrop.shape)\n"
   ]
  },
  {
   "cell_type": "code",
   "execution_count": null,
   "metadata": {},
   "outputs": [],
   "source": [
    "\n",
    "#Crop all the images\n",
    "from skimage.transform import resize\n",
    "cropped_images = np.ones((origin_image.shape[0], 400))\n",
    "\n",
    "for itr in range(10000):\n",
    "    curr_img = origin_image.loc[\n",
    "    img_matrix = curr_img.reshape([28,28])\n",
    "\n",
    "    row_bounds = np.where(img_matrix > 0)[0]\n",
    "    col_bounds = np.where(img_matrix > 0)[1]\n",
    "    max_row_diff = max(row_bounds) - min(row_bounds)\n",
    "    max_col_diff = max(col_bounds) - min(col_bounds)\n",
    "\n",
    "    start_with_row = False\n",
    "    if max_row_diff > max_col_diff:\n",
    "        max_bound = max_row_diff\n",
    "        start_with_row = True\n",
    "    else:\n",
    "        max_bound = max_col_diff\n",
    "\n",
    "\n",
    "    if start_with_row:\n",
    "        crop_img = img_matrix[row_bounds[0]:row_bounds[0] + max_row_diff, 0:27]\n",
    "        scaled = resize(crop_img, (20, 20), preserve_range = True)\n",
    "        plt.imshow(scaled, cmap = 'gray')\n",
    "        cropped_images[itr] = scaled.flatten()\n",
    "\n",
    "    else:\n",
    "        crop_img = img_matrix[0 : 27, col_bounds[0]:col_bounds[0] + max_col_diff]\n",
    "        scaled = resize(crop_img, (20, 20), preserve_range = True)\n",
    "        plt.imshow(scaled, cmap = 'gray')\n",
    "        cropped_images[itr] = scaled.flatten()\n",
    "  \n",
    "    \n",
    "    "
   ]
  },
  {
   "cell_type": "code",
   "execution_count": null,
   "metadata": {},
   "outputs": [],
   "source": [
    "a = cropped_images[770].reshape(20,20)\n",
    "plt.imshow(a,cmap = 'gray')\n"
   ]
  },
  {
   "cell_type": "code",
   "execution_count": null,
   "metadata": {},
   "outputs": [],
   "source": [
    "# print(test)\n",
    "# print(test.shape)\n",
    "print(origin_label.shape)\n"
   ]
  },
  {
   "cell_type": "code",
   "execution_count": null,
   "metadata": {},
   "outputs": [],
   "source": []
  }
 ],
 "metadata": {
  "kernelspec": {
   "display_name": "Python 3",
   "language": "python",
   "name": "python3"
  },
  "language_info": {
   "codemirror_mode": {
    "name": "ipython",
    "version": 3
   },
   "file_extension": ".py",
   "mimetype": "text/x-python",
   "name": "python",
   "nbconvert_exporter": "python",
   "pygments_lexer": "ipython3",
   "version": "3.6.5"
  }
 },
 "nbformat": 4,
 "nbformat_minor": 2
}
