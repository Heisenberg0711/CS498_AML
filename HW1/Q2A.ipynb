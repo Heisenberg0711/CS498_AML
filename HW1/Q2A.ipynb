{
 "cells": [
  {
   "cell_type": "code",
   "execution_count": 1,
   "metadata": {},
   "outputs": [
    {
     "name": "stdout",
     "output_type": "stream",
     "text": [
      "Data Loaded\n"
     ]
    }
   ],
   "source": [
    "import pandas as pd\n",
    "import numpy as np\n",
    "import matplotlib.pyplot as plt\n",
    "from skimage.transform import resize\n",
    "from sklearn.naive_bayes import GaussianNB\n",
    "from sklearn.naive_bayes import BernoulliNB\n",
    "from sklearn.ensemble import RandomForestClassifier\n",
    "from sklearn.datasets import make_classification\n",
    "\n",
    "train_df = pd.read_csv(\"train.csv\").drop(columns='Unnamed: 0')\n",
    "train_labels = train_df['label'].values\n",
    "train_features = train_df.drop(columns='label').values\n",
    "\n",
    "val_df = pd.read_csv(\"val.csv\")\n",
    "val_labels = val_df['label'].values\n",
    "val_features = val_df.drop(columns='label').values\n",
    "\n",
    "test_df = pd.read_csv('test.csv',header = None)\n",
    "test_features = test_df.values"
   ]
  },
  {
   "cell_type": "code",
   "execution_count": 11,
   "metadata": {},
   "outputs": [
    {
     "name": "stdout",
     "output_type": "stream",
     "text": [
      "0.5535\n",
      "[6 9 3 ... 8 9 6]\n",
      "[    0     1     2 ... 19997 19998 19999]\n",
      "finished\n"
     ]
    }
   ],
   "source": [
    "#Training the uncropped images with Gaussian\n",
    "gaussian = GaussianNB()\n",
    "GaussianNB(priors=None)\n",
    "gaussian.fit(train_features, train_labels)\n",
    "gNC_pred = gaussian.predict(test_features)\n",
    "\n",
    "print(gaussian.score(val_features, val_labels))\n",
    "\n",
    "temp = gNC_pred.astype(int)\n",
    "print(temp)\n",
    "\n",
    "img_id = np.arange(0,20000)\n",
    "print(img_id)\n",
    "\n",
    "d = {'ImageId': img_id, 'Label': temp}\n",
    "df = pd.DataFrame(data=d)\n",
    "df.to_csv(\"hqiu9_1.csv\", index = None)\n",
    "\n",
    "print(\"finished\")\n"
   ]
  },
  {
   "cell_type": "code",
   "execution_count": 13,
   "metadata": {},
   "outputs": [
    {
     "name": "stdout",
     "output_type": "stream",
     "text": [
      "0.833\n",
      "finished\n"
     ]
    }
   ],
   "source": [
    "#Training the uncropped images with Bernoulli\n",
    "bernoulli = BernoulliNB()\n",
    "bNC_fit = bernoulli.fit(train_features, train_labels)\n",
    "bNC_pred = bNC_fit.predict(test_features)\n",
    "print(bNC_fit.score(val_features, val_labels))\n",
    "\n",
    "temp = bNC_pred.astype(int)\n",
    "img_id = np.arange(0,20000)\n",
    "\n",
    "d = {'ImageId': img_id, 'Label': temp}\n",
    "df = pd.DataFrame(data=d)\n",
    "df.to_csv(\"hqiu9_2.csv\", index = None)\n",
    "\n",
    "print(\"finished\")\n"
   ]
  },
  {
   "cell_type": "code",
   "execution_count": null,
   "metadata": {},
   "outputs": [],
   "source": [
    "#Random forest 10,4 untouched\n",
    "clf1 = RandomForestClassifier(max_depth=4, random_state=10)\n",
    "clf1.fit(train_features, train_labels)\n",
    "clf1_pred = clf1.predict(test_features)\n",
    "\n",
    "temp = clf1_pred.astype(int)\n",
    "img_id = np.arange(0,20000)\n",
    "d = {'ImageId': img_id, 'Label': temp}\n",
    "df = pd.DataFrame(data=d)\n",
    "df.to_csv(\"hqiu9_5.csv\", index = None)\n",
    "\n",
    "\n",
    "#10,16 untouched index = 7\n",
    "clf2 = RandomForestClassifier(max_depth=16, random_state=10)\n",
    "clf2.fit(train_features, train_labels)\n",
    "clf2_pred = clf2.predict(test_features)\n",
    "\n",
    "temp = clf2_pred.astype(int)\n",
    "img_id = np.arange(0,20000)\n",
    "d = {'ImageId': img_id, 'Label': temp}\n",
    "df = pd.DataFrame(data=d)\n",
    "df.to_csv(\"hqiu9_7.csv\", index = None)\n",
    "\n",
    "#depth 4 tree 30, untouched index = 9\n",
    "clf3 = RandomForestClassifier(max_depth=4, random_state=30)\n",
    "clf3.fit(train_features, train_labels)\n",
    "clf3_pred = clf3.predict(test_features)\n",
    "\n",
    "temp = clf3_pred.astype(int)\n",
    "img_id = np.arange(0,20000)\n",
    "d = {'ImageId': img_id, 'Label': temp}\n",
    "df = pd.DataFrame(data=d)\n",
    "df.to_csv(\"hqiu9_9.csv\", index = None)\n",
    "\n",
    "\n",
    "#depth 16 tree 30, untouched index = 9\n",
    "clf4 = RandomForestClassifier(max_depth=16, random_state=30)\n",
    "clf4.fit(train_features, train_labels)\n",
    "clf4_pred = clf4.predict(test_features)\n",
    "\n",
    "temp = clf4_pred.astype(int)\n",
    "img_id = np.arange(0,20000)\n",
    "d = {'ImageId': img_id, 'Label': temp}\n",
    "df = pd.DataFrame(data=d)\n",
    "df.to_csv(\"hqiu9_11.csv\", index = None)\n",
    "\n"
   ]
  },
  {
   "cell_type": "code",
   "execution_count": null,
   "metadata": {},
   "outputs": [],
   "source": [
    "#Random forest 10,4 untouched\n",
    "clf5 = RandomForestClassifier(max_depth=4, random_state=10)\n",
    "clf5.fit(train_features, train_labels)\n",
    "clf5_pred = clf5.predict(test_features)\n",
    "\n",
    "temp = clf5_pred.astype(int)\n",
    "img_id = np.arange(0,20000)\n",
    "d = {'ImageId': img_id, 'Label': temp}\n",
    "df = pd.DataFrame(data=d)\n",
    "df.to_csv(\"hqiu9_6.csv\", index = None)\n",
    "\n",
    "\n",
    "#10,16 untouched index = 7\n",
    "clf6 = RandomForestClassifier(max_depth=16, random_state=10)\n",
    "clf6.fit(train_features, train_labels)\n",
    "clf6_pred = clf6.predict(test_features)\n",
    "\n",
    "temp = clf6_pred.astype(int)\n",
    "img_id = np.arange(0,20000)\n",
    "d = {'ImageId': img_id, 'Label': temp}\n",
    "df = pd.DataFrame(data=d)\n",
    "df.to_csv(\"hqiu9_8.csv\", index = None)\n",
    "\n",
    "#depth 4 tree 30, untouched index = 9\n",
    "clf7 = RandomForestClassifier(max_depth=4, random_state=30)\n",
    "clf7.fit(train_features, train_labels)\n",
    "clf7_pred = clf7.predict(test_features)\n",
    "\n",
    "temp = clf7_pred.astype(int)\n",
    "img_id = np.arange(0,20000)\n",
    "d = {'ImageId': img_id, 'Label': temp}\n",
    "df = pd.DataFrame(data=d)\n",
    "df.to_csv(\"hqiu9_10.csv\", index = None)\n",
    "\n",
    "\n",
    "#depth 16 tree 30, untouched index = 9\n",
    "clf8 = RandomForestClassifier(max_depth=16, random_state=30)\n",
    "clf8.fit(train_features, train_labels)\n",
    "clf8_pred = clf8.predict(test_features)\n",
    "\n",
    "temp = clf8_pred.astype(int)\n",
    "img_id = np.arange(0,20000)\n",
    "d = {'ImageId': img_id, 'Label': temp}\n",
    "df = pd.DataFrame(data=d)\n",
    "df.to_csv(\"hqiu9_12.csv\", index = None)"
   ]
  },
  {
   "cell_type": "code",
   "execution_count": 3,
   "metadata": {},
   "outputs": [
    {
     "name": "stdout",
     "output_type": "stream",
     "text": [
      "(48000, 400)\n"
     ]
    },
    {
     "data": {
      "image/png": "[encoded data removed]",
      "text/plain": [
       "<Figure size 432x288 with 1 Axes>"
      ]
     },
     "metadata": {},
     "output_type": "display_data"
    }
   ],
   "source": [
    "#Crop the test features and the train features \n",
    "from skimage.transform import resize\n",
    "cropped_images = np.ones((train_features.shape[0], 400))\n",
    "\n",
    "for itr in range(train_features.shape[0]):\n",
    "    curr_img = train_features[itr, :]\n",
    "    img_matrix = curr_img.reshape([28,28])\n",
    "\n",
    "    row_bounds = np.where(img_matrix > 0)[0]\n",
    "    col_bounds = np.where(img_matrix > 0)[1]\n",
    "    max_row_diff = max(row_bounds) - min(row_bounds)\n",
    "    max_col_diff = max(col_bounds) - min(col_bounds)\n",
    "\n",
    "    start_with_row = False\n",
    "    if max_row_diff > max_col_diff:\n",
    "        max_bound = max_row_diff\n",
    "        start_with_row = True\n",
    "    else:\n",
    "        max_bound = max_col_diff\n",
    "\n",
    "\n",
    "    if start_with_row:\n",
    "        crop_img = img_matrix[row_bounds[0]:row_bounds[0] + max_row_diff, 0:27]\n",
    "        scaled = resize(crop_img, (20, 20), preserve_range = True, mode = 'constant')\n",
    "        plt.imshow(scaled, cmap = 'gray')\n",
    "        cropped_images[itr] = scaled.flatten()\n",
    "\n",
    "    else:\n",
    "        crop_img = img_matrix[0 : 27, col_bounds[0]:col_bounds[0] + max_col_diff]\n",
    "        scaled = resize(crop_img, (20, 20), preserve_range = True, mode = 'constant')\n",
    "        plt.imshow(scaled, cmap = 'gray')\n",
    "        cropped_images[itr] = scaled.flatten()\n",
    "\n",
    "print(cropped_images.shape)   \n",
    "\n"
   ]
  },
  {
   "cell_type": "code",
   "execution_count": null,
   "metadata": {},
   "outputs": [],
   "source": [
    "#Process the test features for classification\n",
    "test_features_new = np.ones((test_features.shape[0], 400))\n",
    "\n",
    "for itr in range(test_features.shape[0]):\n",
    "    curr_img = test_features[itr, :]\n",
    "    img_matrix = curr_img.reshape([28,28])\n",
    "\n",
    "    row_bounds = np.where(img_matrix > 0)[0]\n",
    "    col_bounds = np.where(img_matrix > 0)[1]\n",
    "    max_row_diff = max(row_bounds) - min(row_bounds)\n",
    "    max_col_diff = max(col_bounds) - min(col_bounds)\n",
    "\n",
    "    start_with_row = False\n",
    "    if max_row_diff > max_col_diff:\n",
    "        max_bound = max_row_diff\n",
    "        start_with_row = True\n",
    "    else:\n",
    "        max_bound = max_col_diff\n",
    "\n",
    "\n",
    "    if start_with_row:\n",
    "        crop_img = img_matrix[row_bounds[0]:row_bounds[0] + max_row_diff, 0:27]\n",
    "        scaled = resize(crop_img, (20, 20), preserve_range = True, mode = 'constant')\n",
    "        plt.imshow(scaled, cmap = 'gray')\n",
    "        test_features_new[itr] = scaled.flatten()\n",
    "\n",
    "    else:\n",
    "        crop_img = img_matrix[0 : 27, col_bounds[0]:col_bounds[0] + max_col_diff]\n",
    "        scaled = resize(crop_img, (20, 20), preserve_range = True, mode = 'constant')\n",
    "        plt.imshow(scaled, cmap = 'gray')\n",
    "        test_features_new[itr] = scaled.flatten()\n",
    "\n",
    "print(test_features_new.shape)"
   ]
  },
  {
   "cell_type": "code",
   "execution_count": null,
   "metadata": {},
   "outputs": [],
   "source": [
    "#Train the gaussian after cropping\n",
    "gaussian = GaussianNB()\n",
    "GaussianNB(priors=None)\n",
    "gaussian.fit(cropped_images, train_labels)\n",
    "\n",
    "gaussian_pred = gaussian.predict(test_features_new)\n",
    "#print(gaussian.score(val_features, val_labels))\n",
    "\n",
    "temp = gaussian_pred.astype(int)\n",
    "img_id = np.arange(0,20000)\n",
    "\n",
    "d = {'ImageId': img_id, 'Label': temp}\n",
    "df = pd.DataFrame(data=d)\n",
    "df.to_csv(\"hqiu9_3.csv\", index = None)\n"
   ]
  },
  {
   "cell_type": "code",
   "execution_count": null,
   "metadata": {},
   "outputs": [],
   "source": [
    "#Train the Bernoulli after cropping\n",
    "bernoulli = BernoulliNB()\n",
    "bernoulli.fit(cropped_images, train_labels)\n",
    "bNC_pred = bernoulli.predict(test_features_new)\n",
    "\n",
    "temp = bNC_pred.astype(int)\n",
    "img_id = np.arange(0,20000)\n",
    "\n",
    "d = {'ImageId': img_id, 'Label': temp}\n",
    "df = pd.DataFrame(data=d)\n",
    "df.to_csv(\"hqiu9_4.csv\", index = None)"
   ]
  },
  {
   "cell_type": "code",
   "execution_count": null,
   "metadata": {},
   "outputs": [],
   "source": []
  }
 ],
 "metadata": {
  "kernelspec": {
   "display_name": "Python 3",
   "language": "python",
   "name": "python3"
  },
  "language_info": {
   "codemirror_mode": {
    "name": "ipython",
    "version": 3
   },
   "file_extension": ".py",
   "mimetype": "text/x-python",
   "name": "python",
   "nbconvert_exporter": "python",
   "pygments_lexer": "ipython3",
   "version": "3.6.5"
  }
 },
 "nbformat": 4,
 "nbformat_minor": 2
}
